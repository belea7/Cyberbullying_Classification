{
 "cells": [
  {
   "cell_type": "code",
   "execution_count": 1,
   "id": "712ad753",
   "metadata": {
    "_cell_guid": "b1076dfc-b9ad-4769-8c92-a6c4dae69d19",
    "_uuid": "8f2839f25d086af736a60e9eeb907d3b93b6e0e5",
    "execution": {
     "iopub.execute_input": "2022-03-15T22:24:08.211977Z",
     "iopub.status.busy": "2022-03-15T22:24:08.211346Z",
     "iopub.status.idle": "2022-03-15T22:24:09.951613Z",
     "shell.execute_reply": "2022-03-15T22:24:09.952092Z",
     "shell.execute_reply.started": "2022-03-15T21:56:36.996515Z"
    },
    "papermill": {
     "duration": 1.779538,
     "end_time": "2022-03-15T22:24:09.952421",
     "exception": false,
     "start_time": "2022-03-15T22:24:08.172883",
     "status": "completed"
    },
    "tags": []
   },
   "outputs": [],
   "source": [
    "import numpy as np\n",
    "import pandas as pd\n",
    "import seaborn as sns\n",
    "import re\n",
    "import string\n",
    "\n",
    "import nltk\n",
    "from nltk.corpus import stopwords\n",
    "from nltk.tokenize import TweetTokenizer\n",
    "from nltk.corpus import wordnet\n",
    "from nltk.stem import WordNetLemmatizer\n",
    "\n",
    "from sklearn.model_selection import train_test_split\n",
    "from sklearn.metrics import classification_report, roc_curve, accuracy_score"
   ]
  },
  {
   "cell_type": "markdown",
   "id": "bf95826d",
   "metadata": {
    "papermill": {
     "duration": 0.02592,
     "end_time": "2022-03-15T22:24:10.007929",
     "exception": false,
     "start_time": "2022-03-15T22:24:09.982009",
     "status": "completed"
    },
    "tags": []
   },
   "source": [
    "# Data Exploration"
   ]
  },
  {
   "cell_type": "code",
   "execution_count": 2,
   "id": "b6aef766",
   "metadata": {
    "execution": {
     "iopub.execute_input": "2022-03-15T22:24:10.066418Z",
     "iopub.status.busy": "2022-03-15T22:24:10.065435Z",
     "iopub.status.idle": "2022-03-15T22:24:10.335787Z",
     "shell.execute_reply": "2022-03-15T22:24:10.336305Z",
     "shell.execute_reply.started": "2022-03-15T21:56:37.780187Z"
    },
    "papermill": {
     "duration": 0.301748,
     "end_time": "2022-03-15T22:24:10.336475",
     "exception": false,
     "start_time": "2022-03-15T22:24:10.034727",
     "status": "completed"
    },
    "tags": []
   },
   "outputs": [
    {
     "data": {
      "text/html": [
       "<div>\n",
       "<style scoped>\n",
       "    .dataframe tbody tr th:only-of-type {\n",
       "        vertical-align: middle;\n",
       "    }\n",
       "\n",
       "    .dataframe tbody tr th {\n",
       "        vertical-align: top;\n",
       "    }\n",
       "\n",
       "    .dataframe thead th {\n",
       "        text-align: right;\n",
       "    }\n",
       "</style>\n",
       "<table border=\"1\" class=\"dataframe\">\n",
       "  <thead>\n",
       "    <tr style=\"text-align: right;\">\n",
       "      <th></th>\n",
       "      <th>tweet_text</th>\n",
       "      <th>cyberbullying_type</th>\n",
       "    </tr>\n",
       "  </thead>\n",
       "  <tbody>\n",
       "    <tr>\n",
       "      <th>0</th>\n",
       "      <td>In other words #katandandre, your food was cra...</td>\n",
       "      <td>not_cyberbullying</td>\n",
       "    </tr>\n",
       "    <tr>\n",
       "      <th>1</th>\n",
       "      <td>Why is #aussietv so white? #MKR #theblock #ImA...</td>\n",
       "      <td>not_cyberbullying</td>\n",
       "    </tr>\n",
       "    <tr>\n",
       "      <th>2</th>\n",
       "      <td>@XochitlSuckkks a classy whore? Or more red ve...</td>\n",
       "      <td>not_cyberbullying</td>\n",
       "    </tr>\n",
       "    <tr>\n",
       "      <th>3</th>\n",
       "      <td>@Jason_Gio meh. :P  thanks for the heads up, b...</td>\n",
       "      <td>not_cyberbullying</td>\n",
       "    </tr>\n",
       "    <tr>\n",
       "      <th>4</th>\n",
       "      <td>@RudhoeEnglish This is an ISIS account pretend...</td>\n",
       "      <td>not_cyberbullying</td>\n",
       "    </tr>\n",
       "    <tr>\n",
       "      <th>...</th>\n",
       "      <td>...</td>\n",
       "      <td>...</td>\n",
       "    </tr>\n",
       "    <tr>\n",
       "      <th>47687</th>\n",
       "      <td>Black ppl aren't expected to do anything, depe...</td>\n",
       "      <td>ethnicity</td>\n",
       "    </tr>\n",
       "    <tr>\n",
       "      <th>47688</th>\n",
       "      <td>Turner did not withhold his disappointment. Tu...</td>\n",
       "      <td>ethnicity</td>\n",
       "    </tr>\n",
       "    <tr>\n",
       "      <th>47689</th>\n",
       "      <td>I swear to God. This dumb nigger bitch. I have...</td>\n",
       "      <td>ethnicity</td>\n",
       "    </tr>\n",
       "    <tr>\n",
       "      <th>47690</th>\n",
       "      <td>Yea fuck you RT @therealexel: IF YOURE A NIGGE...</td>\n",
       "      <td>ethnicity</td>\n",
       "    </tr>\n",
       "    <tr>\n",
       "      <th>47691</th>\n",
       "      <td>Bro. U gotta chill RT @CHILLShrammy: Dog FUCK ...</td>\n",
       "      <td>ethnicity</td>\n",
       "    </tr>\n",
       "  </tbody>\n",
       "</table>\n",
       "<p>47692 rows × 2 columns</p>\n",
       "</div>"
      ],
      "text/plain": [
       "                                              tweet_text cyberbullying_type\n",
       "0      In other words #katandandre, your food was cra...  not_cyberbullying\n",
       "1      Why is #aussietv so white? #MKR #theblock #ImA...  not_cyberbullying\n",
       "2      @XochitlSuckkks a classy whore? Or more red ve...  not_cyberbullying\n",
       "3      @Jason_Gio meh. :P  thanks for the heads up, b...  not_cyberbullying\n",
       "4      @RudhoeEnglish This is an ISIS account pretend...  not_cyberbullying\n",
       "...                                                  ...                ...\n",
       "47687  Black ppl aren't expected to do anything, depe...          ethnicity\n",
       "47688  Turner did not withhold his disappointment. Tu...          ethnicity\n",
       "47689  I swear to God. This dumb nigger bitch. I have...          ethnicity\n",
       "47690  Yea fuck you RT @therealexel: IF YOURE A NIGGE...          ethnicity\n",
       "47691  Bro. U gotta chill RT @CHILLShrammy: Dog FUCK ...          ethnicity\n",
       "\n",
       "[47692 rows x 2 columns]"
      ]
     },
     "execution_count": 2,
     "metadata": {},
     "output_type": "execute_result"
    }
   ],
   "source": [
    "df = pd.read_csv(\"/kaggle/input/cyberbullying-classification/cyberbullying_tweets.csv\")\n",
    "df"
   ]
  },
  {
   "cell_type": "markdown",
   "id": "483a4ac1",
   "metadata": {
    "papermill": {
     "duration": 0.025953,
     "end_time": "2022-03-15T22:24:10.389848",
     "exception": false,
     "start_time": "2022-03-15T22:24:10.363895",
     "status": "completed"
    },
    "tags": []
   },
   "source": [
    "The tweets have the following categories:\n",
    "1. not_cyberbullying\n",
    "2. gender\n",
    "3. religion\n",
    "4. age\n",
    "5. etnicity\n",
    "6. other_cyberbullying"
   ]
  },
  {
   "cell_type": "code",
   "execution_count": 3,
   "id": "5eb6bcfb",
   "metadata": {
    "execution": {
     "iopub.execute_input": "2022-03-15T22:24:10.446547Z",
     "iopub.status.busy": "2022-03-15T22:24:10.445529Z",
     "iopub.status.idle": "2022-03-15T22:24:10.461661Z",
     "shell.execute_reply": "2022-03-15T22:24:10.460958Z",
     "shell.execute_reply.started": "2022-03-15T21:56:37.941605Z"
    },
    "papermill": {
     "duration": 0.045674,
     "end_time": "2022-03-15T22:24:10.461804",
     "exception": false,
     "start_time": "2022-03-15T22:24:10.416130",
     "status": "completed"
    },
    "tags": []
   },
   "outputs": [
    {
     "data": {
      "text/plain": [
       "array(['not_cyberbullying', 'gender', 'religion', 'other_cyberbullying',\n",
       "       'age', 'ethnicity'], dtype=object)"
      ]
     },
     "execution_count": 3,
     "metadata": {},
     "output_type": "execute_result"
    }
   ],
   "source": [
    "df.cyberbullying_type.unique()"
   ]
  },
  {
   "cell_type": "code",
   "execution_count": 4,
   "id": "7c69d094",
   "metadata": {
    "execution": {
     "iopub.execute_input": "2022-03-15T22:24:10.523874Z",
     "iopub.status.busy": "2022-03-15T22:24:10.523087Z",
     "iopub.status.idle": "2022-03-15T22:24:10.898681Z",
     "shell.execute_reply": "2022-03-15T22:24:10.899191Z",
     "shell.execute_reply.started": "2022-03-15T21:56:37.957048Z"
    },
    "papermill": {
     "duration": 0.410663,
     "end_time": "2022-03-15T22:24:10.899382",
     "exception": false,
     "start_time": "2022-03-15T22:24:10.488719",
     "status": "completed"
    },
    "tags": []
   },
   "outputs": [
    {
     "data": {
      "text/plain": [
       "Text(0.5, 1.0, 'Tweets distribution by cyberbullying types')"
      ]
     },
     "execution_count": 4,
     "metadata": {},
     "output_type": "execute_result"
    },
    {
     "data": {
      "image/png": "[encoded data removed]",
      "text/plain": [
       "<Figure size 2016x576 with 1 Axes>"
      ]
     },
     "metadata": {},
     "output_type": "display_data"
    }
   ],
   "source": [
    "sns.set(rc={'figure.figsize':(28,8)})\n",
    "sns.countplot(x=\"cyberbullying_type\", data=df, order=df.cyberbullying_type.value_counts().index).set_title(\"Tweets distribution by cyberbullying types\")"
   ]
  },
  {
   "cell_type": "code",
   "execution_count": 5,
   "id": "7efc5f3e",
   "metadata": {
    "execution": {
     "iopub.execute_input": "2022-03-15T22:24:10.971707Z",
     "iopub.status.busy": "2022-03-15T22:24:10.967911Z",
     "iopub.status.idle": "2022-03-15T22:24:10.975513Z",
     "shell.execute_reply": "2022-03-15T22:24:10.975956Z",
     "shell.execute_reply.started": "2022-03-15T21:56:38.323777Z"
    },
    "papermill": {
     "duration": 0.046366,
     "end_time": "2022-03-15T22:24:10.976121",
     "exception": false,
     "start_time": "2022-03-15T22:24:10.929755",
     "status": "completed"
    },
    "tags": []
   },
   "outputs": [
    {
     "data": {
      "text/plain": [
       "religion               16.770108\n",
       "age                    16.757527\n",
       "gender                 16.717689\n",
       "ethnicity              16.692527\n",
       "not_cyberbullying      16.658978\n",
       "other_cyberbullying    16.403170\n",
       "Name: cyberbullying_type, dtype: float64"
      ]
     },
     "execution_count": 5,
     "metadata": {},
     "output_type": "execute_result"
    }
   ],
   "source": [
    "(df.cyberbullying_type.value_counts(normalize=True) * 100)"
   ]
  },
  {
   "cell_type": "code",
   "execution_count": 6,
   "id": "2badd795",
   "metadata": {
    "execution": {
     "iopub.execute_input": "2022-03-15T22:24:11.048760Z",
     "iopub.status.busy": "2022-03-15T22:24:11.048092Z",
     "iopub.status.idle": "2022-03-15T22:24:11.301981Z",
     "shell.execute_reply": "2022-03-15T22:24:11.302498Z",
     "shell.execute_reply.started": "2022-03-15T21:56:38.344125Z"
    },
    "papermill": {
     "duration": 0.297017,
     "end_time": "2022-03-15T22:24:11.302664",
     "exception": false,
     "start_time": "2022-03-15T22:24:11.005647",
     "status": "completed"
    },
    "tags": []
   },
   "outputs": [
    {
     "data": {
      "text/plain": [
       "Text(0.5, 1.0, 'Tweets distribution by cyberbullying types')"
      ]
     },
     "execution_count": 6,
     "metadata": {},
     "output_type": "execute_result"
    },
    {
     "data": {
      "image/png": "[encoded data removed]",
      "text/plain": [
       "<Figure size 2016x576 with 1 Axes>"
      ]
     },
     "metadata": {},
     "output_type": "display_data"
    }
   ],
   "source": [
    "df[\"is_cyberbullying\"] = df.cyberbullying_type != \"not_cyberbullying\"\n",
    "df[\"is_cyberbullying\"] = df[\"is_cyberbullying\"].astype(int)\n",
    "sns.countplot(x=\"is_cyberbullying\", data=df, order=df.is_cyberbullying.value_counts().index).set_title(\"Tweets distribution by cyberbullying types\")"
   ]
  },
  {
   "cell_type": "code",
   "execution_count": 7,
   "id": "ca4e384f",
   "metadata": {
    "execution": {
     "iopub.execute_input": "2022-03-15T22:24:11.367351Z",
     "iopub.status.busy": "2022-03-15T22:24:11.366657Z",
     "iopub.status.idle": "2022-03-15T22:24:11.373302Z",
     "shell.execute_reply": "2022-03-15T22:24:11.373860Z",
     "shell.execute_reply.started": "2022-03-15T21:56:38.625083Z"
    },
    "papermill": {
     "duration": 0.041111,
     "end_time": "2022-03-15T22:24:11.374027",
     "exception": false,
     "start_time": "2022-03-15T22:24:11.332916",
     "status": "completed"
    },
    "tags": []
   },
   "outputs": [
    {
     "data": {
      "text/plain": [
       "1    83.341022\n",
       "0    16.658978\n",
       "Name: is_cyberbullying, dtype: float64"
      ]
     },
     "execution_count": 7,
     "metadata": {},
     "output_type": "execute_result"
    }
   ],
   "source": [
    "(df.is_cyberbullying.value_counts(normalize=True) * 100)"
   ]
  },
  {
   "cell_type": "markdown",
   "id": "c704d8f4",
   "metadata": {
    "papermill": {
     "duration": 0.030807,
     "end_time": "2022-03-15T22:24:11.435568",
     "exception": false,
     "start_time": "2022-03-15T22:24:11.404761",
     "status": "completed"
    },
    "tags": []
   },
   "source": [
    "# Data Preprocessing"
   ]
  },
  {
   "cell_type": "markdown",
   "id": "cb3e6130",
   "metadata": {
    "papermill": {
     "duration": 0.03047,
     "end_time": "2022-03-15T22:24:11.496873",
     "exception": false,
     "start_time": "2022-03-15T22:24:11.466403",
     "status": "completed"
    },
    "tags": []
   },
   "source": [
    "Clean text by removing punctuation, numbers and extra spaces, removing stop words, and lemmatization:"
   ]
  },
  {
   "cell_type": "code",
   "execution_count": 8,
   "id": "0b1deef0",
   "metadata": {
    "execution": {
     "iopub.execute_input": "2022-03-15T22:24:11.574052Z",
     "iopub.status.busy": "2022-03-15T22:24:11.573275Z",
     "iopub.status.idle": "2022-03-15T22:29:07.838810Z",
     "shell.execute_reply": "2022-03-15T22:29:07.839350Z",
     "shell.execute_reply.started": "2022-03-15T21:56:38.637971Z"
    },
    "papermill": {
     "duration": 296.311854,
     "end_time": "2022-03-15T22:29:07.839536",
     "exception": false,
     "start_time": "2022-03-15T22:24:11.527682",
     "status": "completed"
    },
    "tags": []
   },
   "outputs": [
    {
     "data": {
      "text/html": [
       "<div>\n",
       "<style scoped>\n",
       "    .dataframe tbody tr th:only-of-type {\n",
       "        vertical-align: middle;\n",
       "    }\n",
       "\n",
       "    .dataframe tbody tr th {\n",
       "        vertical-align: top;\n",
       "    }\n",
       "\n",
       "    .dataframe thead th {\n",
       "        text-align: right;\n",
       "    }\n",
       "</style>\n",
       "<table border=\"1\" class=\"dataframe\">\n",
       "  <thead>\n",
       "    <tr style=\"text-align: right;\">\n",
       "      <th></th>\n",
       "      <th>tweet_text</th>\n",
       "      <th>cyberbullying_type</th>\n",
       "      <th>is_cyberbullying</th>\n",
       "      <th>original_tweet</th>\n",
       "    </tr>\n",
       "  </thead>\n",
       "  <tbody>\n",
       "    <tr>\n",
       "      <th>0</th>\n",
       "      <td>word katandandr food crapilici mkr</td>\n",
       "      <td>not_cyberbullying</td>\n",
       "      <td>0</td>\n",
       "      <td>In other words #katandandre, your food was cra...</td>\n",
       "    </tr>\n",
       "    <tr>\n",
       "      <th>1</th>\n",
       "      <td>aussietv white mkr theblock imacelebrityau tod...</td>\n",
       "      <td>not_cyberbullying</td>\n",
       "      <td>0</td>\n",
       "      <td>Why is #aussietv so white? #MKR #theblock #ImA...</td>\n",
       "    </tr>\n",
       "    <tr>\n",
       "      <th>2</th>\n",
       "      <td>classi whore red velvet cupcak</td>\n",
       "      <td>not_cyberbullying</td>\n",
       "      <td>0</td>\n",
       "      <td>@XochitlSuckkks a classy whore? Or more red ve...</td>\n",
       "    </tr>\n",
       "    <tr>\n",
       "      <th>3</th>\n",
       "      <td>gio meh p thank head concern anoth angri dude ...</td>\n",
       "      <td>not_cyberbullying</td>\n",
       "      <td>0</td>\n",
       "      <td>@Jason_Gio meh. :P  thanks for the heads up, b...</td>\n",
       "    </tr>\n",
       "    <tr>\n",
       "      <th>4</th>\n",
       "      <td>isi account pretend kurdish account like islam...</td>\n",
       "      <td>not_cyberbullying</td>\n",
       "      <td>0</td>\n",
       "      <td>@RudhoeEnglish This is an ISIS account pretend...</td>\n",
       "    </tr>\n",
       "    <tr>\n",
       "      <th>...</th>\n",
       "      <td>...</td>\n",
       "      <td>...</td>\n",
       "      <td>...</td>\n",
       "      <td>...</td>\n",
       "    </tr>\n",
       "    <tr>\n",
       "      <th>47687</th>\n",
       "      <td>black ppl expect anyth depend anyth yet free p...</td>\n",
       "      <td>ethnicity</td>\n",
       "      <td>1</td>\n",
       "      <td>Black ppl aren't expected to do anything, depe...</td>\n",
       "    </tr>\n",
       "    <tr>\n",
       "      <th>47688</th>\n",
       "      <td>turner withhold disappoint turner call court “...</td>\n",
       "      <td>ethnicity</td>\n",
       "      <td>1</td>\n",
       "      <td>Turner did not withhold his disappointment. Tu...</td>\n",
       "    </tr>\n",
       "    <tr>\n",
       "      <th>47689</th>\n",
       "      <td>swear god dumb nigger bitch get bleach hair re...</td>\n",
       "      <td>ethnicity</td>\n",
       "      <td>1</td>\n",
       "      <td>I swear to God. This dumb nigger bitch. I have...</td>\n",
       "    </tr>\n",
       "    <tr>\n",
       "      <th>47690</th>\n",
       "      <td>yea fuck rt your nigger fuck unfollow fuck dum...</td>\n",
       "      <td>ethnicity</td>\n",
       "      <td>1</td>\n",
       "      <td>Yea fuck you RT @therealexel: IF YOURE A NIGGE...</td>\n",
       "    </tr>\n",
       "    <tr>\n",
       "      <th>47691</th>\n",
       "      <td>bro u gotta chill rt dog fuck kp dumb nigger b...</td>\n",
       "      <td>ethnicity</td>\n",
       "      <td>1</td>\n",
       "      <td>Bro. U gotta chill RT @CHILLShrammy: Dog FUCK ...</td>\n",
       "    </tr>\n",
       "  </tbody>\n",
       "</table>\n",
       "<p>47692 rows × 4 columns</p>\n",
       "</div>"
      ],
      "text/plain": [
       "                                              tweet_text cyberbullying_type  \\\n",
       "0                     word katandandr food crapilici mkr  not_cyberbullying   \n",
       "1      aussietv white mkr theblock imacelebrityau tod...  not_cyberbullying   \n",
       "2                         classi whore red velvet cupcak  not_cyberbullying   \n",
       "3      gio meh p thank head concern anoth angri dude ...  not_cyberbullying   \n",
       "4      isi account pretend kurdish account like islam...  not_cyberbullying   \n",
       "...                                                  ...                ...   \n",
       "47687  black ppl expect anyth depend anyth yet free p...          ethnicity   \n",
       "47688  turner withhold disappoint turner call court “...          ethnicity   \n",
       "47689  swear god dumb nigger bitch get bleach hair re...          ethnicity   \n",
       "47690  yea fuck rt your nigger fuck unfollow fuck dum...          ethnicity   \n",
       "47691  bro u gotta chill rt dog fuck kp dumb nigger b...          ethnicity   \n",
       "\n",
       "       is_cyberbullying                                     original_tweet  \n",
       "0                     0  In other words #katandandre, your food was cra...  \n",
       "1                     0  Why is #aussietv so white? #MKR #theblock #ImA...  \n",
       "2                     0  @XochitlSuckkks a classy whore? Or more red ve...  \n",
       "3                     0  @Jason_Gio meh. :P  thanks for the heads up, b...  \n",
       "4                     0  @RudhoeEnglish This is an ISIS account pretend...  \n",
       "...                 ...                                                ...  \n",
       "47687                 1  Black ppl aren't expected to do anything, depe...  \n",
       "47688                 1  Turner did not withhold his disappointment. Tu...  \n",
       "47689                 1  I swear to God. This dumb nigger bitch. I have...  \n",
       "47690                 1  Yea fuck you RT @therealexel: IF YOURE A NIGGE...  \n",
       "47691                 1  Bro. U gotta chill RT @CHILLShrammy: Dog FUCK ...  \n",
       "\n",
       "[47692 rows x 4 columns]"
      ]
     },
     "execution_count": 8,
     "metadata": {},
     "output_type": "execute_result"
    }
   ],
   "source": [
    "import emoji\n",
    "from nltk.stem import PorterStemmer\n",
    "\n",
    "def initial_cleaning(text):\n",
    "    text = re.sub(r\"^RT[\\s]+\",\"\",text)\n",
    "    text = text.lower()\n",
    "    text = re.sub(r\"https?:\\/\\/.*[\\r\\n]*\",\"https\",text)\n",
    "    text = re.sub(r\"@[A-Za-z0-9]+\",\"\",text)\n",
    "    text = re.sub(emoji.get_emoji_regexp(),r\" \",text)\n",
    "    text = re.sub(r'[0-9]',' ',text) \n",
    "    text = re.compile('[%s]' % re.escape(string.punctuation)).sub(' ', text)\n",
    "    text = re.sub('\\s+', ' ', text)\n",
    "    return text\n",
    "\n",
    "def remove_stopword(text):\n",
    "    a = [i for i in text.split() if i not in stopwords.words('english')]\n",
    "    return ' '.join(a)\n",
    "\n",
    "porter = PorterStemmer()\n",
    "def stem(text):\n",
    "    a = [porter.stem(i) for i in text.split()]\n",
    "    return ' '.join(a)\n",
    "\n",
    "wl = WordNetLemmatizer()\n",
    "def get_wordnet_pos(tag):\n",
    "    if tag.startswith('J'):\n",
    "        return wordnet.ADJ\n",
    "    elif tag.startswith('V'):\n",
    "        return wordnet.VERB\n",
    "    elif tag.startswith('N'):\n",
    "        return wordnet.NOUN\n",
    "    elif tag.startswith('R'):\n",
    "        return wordnet.ADV\n",
    "    else:\n",
    "        return wordnet.NOUN\n",
    "\n",
    "tokenizer = TweetTokenizer(preserve_case=False, \n",
    "                           strip_handles=True,\n",
    "                           reduce_len=True)\n",
    "def lemmatizer(text):\n",
    "    word_pos_tags = nltk.pos_tag(tokenizer.tokenize(text))\n",
    "    a=[wl.lemmatize(tag[0], get_wordnet_pos(tag[1])) for idx, tag in enumerate(word_pos_tags)]\n",
    "    return \" \".join(a)\n",
    "\n",
    "def text_preprocessing(text):\n",
    "    return lemmatizer(stem(remove_stopword(initial_cleaning(text))))\n",
    "\n",
    "df[\"original_tweet\"] = df.tweet_text\n",
    "df.tweet_text = df.tweet_text.apply(lambda x: text_preprocessing(x))\n",
    "df"
   ]
  },
  {
   "cell_type": "markdown",
   "id": "a9039522",
   "metadata": {
    "papermill": {
     "duration": 0.030906,
     "end_time": "2022-03-15T22:29:07.902702",
     "exception": false,
     "start_time": "2022-03-15T22:29:07.871796",
     "status": "completed"
    },
    "tags": []
   },
   "source": [
    "Convert text into vectors using Word2Vec dictionary:"
   ]
  },
  {
   "cell_type": "code",
   "execution_count": 9,
   "id": "c594315e",
   "metadata": {
    "execution": {
     "iopub.execute_input": "2022-03-15T22:29:07.975910Z",
     "iopub.status.busy": "2022-03-15T22:29:07.975151Z",
     "iopub.status.idle": "2022-03-15T22:29:20.115998Z",
     "shell.execute_reply": "2022-03-15T22:29:20.114950Z",
     "shell.execute_reply.started": "2022-03-15T22:01:51.680192Z"
    },
    "papermill": {
     "duration": 12.182146,
     "end_time": "2022-03-15T22:29:20.116152",
     "exception": false,
     "start_time": "2022-03-15T22:29:07.934006",
     "status": "completed"
    },
    "tags": []
   },
   "outputs": [],
   "source": [
    "from gensim.models import Word2Vec\n",
    "\n",
    "class MeanEmbeddingVectorizer():\n",
    "    def __init__(self, word2vec):\n",
    "        self.word2vec = word2vec\n",
    "        self.dim = len(next(iter(word2vec.values())))\n",
    "\n",
    "    def transform(self, X):\n",
    "        return np.array([np.mean([self.word2vec[w] for w in words if w in self.word2vec] or [np.zeros(self.dim)], axis=0) for words in X])\n",
    "    \n",
    "    def fit(self, X, y):\n",
    "        return self\n",
    "\n",
    "df[\"tokenized\"] = [tokenizer.tokenize(i) for i in df['tweet_text']]\n",
    "model = Word2Vec(df[\"tokenized\"], min_count=1)\n",
    "w2v = dict(zip(model.wv.index_to_key, model.wv.vectors)) \n",
    "modelw = MeanEmbeddingVectorizer(w2v)"
   ]
  },
  {
   "cell_type": "code",
   "execution_count": 10,
   "id": "df5647b7",
   "metadata": {
    "execution": {
     "iopub.execute_input": "2022-03-15T22:29:20.188144Z",
     "iopub.status.busy": "2022-03-15T22:29:20.187489Z",
     "iopub.status.idle": "2022-03-15T22:29:20.197255Z",
     "shell.execute_reply": "2022-03-15T22:29:20.197783Z",
     "shell.execute_reply.started": "2022-03-15T22:02:04.786655Z"
    },
    "papermill": {
     "duration": 0.049966,
     "end_time": "2022-03-15T22:29:20.197959",
     "exception": false,
     "start_time": "2022-03-15T22:29:20.147993",
     "status": "completed"
    },
    "tags": []
   },
   "outputs": [
    {
     "data": {
      "text/plain": [
       "array([3, 2, 5, 4, 0, 1], dtype=int8)"
      ]
     },
     "execution_count": 10,
     "metadata": {},
     "output_type": "execute_result"
    }
   ],
   "source": [
    "df[\"cyberbullying_type_code\"] = df.cyberbullying_type.astype('category').cat.codes\n",
    "df[\"cyberbullying_type_code\"].unique()"
   ]
  },
  {
   "cell_type": "markdown",
   "id": "d3cf7b08",
   "metadata": {
    "papermill": {
     "duration": 0.031538,
     "end_time": "2022-03-15T22:29:20.261687",
     "exception": false,
     "start_time": "2022-03-15T22:29:20.230149",
     "status": "completed"
    },
    "tags": []
   },
   "source": [
    "Let's split the data with validating all cyberbullying types are represented in both test and train sets (using **stratify** parameter):"
   ]
  },
  {
   "cell_type": "code",
   "execution_count": 11,
   "id": "23c2f636",
   "metadata": {
    "execution": {
     "iopub.execute_input": "2022-03-15T22:29:20.328686Z",
     "iopub.status.busy": "2022-03-15T22:29:20.328054Z",
     "iopub.status.idle": "2022-03-15T22:29:22.195115Z",
     "shell.execute_reply": "2022-03-15T22:29:22.195739Z",
     "shell.execute_reply.started": "2022-03-15T22:02:04.806065Z"
    },
    "papermill": {
     "duration": 1.902239,
     "end_time": "2022-03-15T22:29:22.195951",
     "exception": false,
     "start_time": "2022-03-15T22:29:20.293712",
     "status": "completed"
    },
    "tags": []
   },
   "outputs": [],
   "source": [
    "# Split to train and test sets\n",
    "X_train, X_test, y_train, y_test = train_test_split(df[\"tokenized\"],df[\"cyberbullying_type_code\"],test_size=0.2,shuffle=True, stratify=df[\"cyberbullying_type\"])\n",
    "\n",
    "# Convert train and test sets to vectors\n",
    "X_train_vectors_w2v = modelw.transform(X_train)\n",
    "X_test_vectors_w2v = modelw.transform(X_test)"
   ]
  },
  {
   "cell_type": "markdown",
   "id": "ec8a37b0",
   "metadata": {
    "papermill": {
     "duration": 0.032101,
     "end_time": "2022-03-15T22:29:22.260672",
     "exception": false,
     "start_time": "2022-03-15T22:29:22.228571",
     "status": "completed"
    },
    "tags": []
   },
   "source": [
    "Let's use XGBoost for this classification, as is a state-of-the-art algorithm in many classification problems. I used GridSearchCV to perform hyparameter tuning."
   ]
  },
  {
   "cell_type": "code",
   "execution_count": 12,
   "id": "a9426c00",
   "metadata": {
    "execution": {
     "iopub.execute_input": "2022-03-15T22:29:22.331981Z",
     "iopub.status.busy": "2022-03-15T22:29:22.331133Z",
     "iopub.status.idle": "2022-03-15T22:30:43.642745Z",
     "shell.execute_reply": "2022-03-15T22:30:43.643369Z",
     "shell.execute_reply.started": "2022-03-15T22:02:06.757550Z"
    },
    "papermill": {
     "duration": 81.350587,
     "end_time": "2022-03-15T22:30:43.643587",
     "exception": false,
     "start_time": "2022-03-15T22:29:22.293000",
     "status": "completed"
    },
    "tags": []
   },
   "outputs": [
    {
     "name": "stdout",
     "output_type": "stream",
     "text": [
      "[22:29:23] WARNING: ../src/learner.cc:1115: Starting in XGBoost 1.3.0, the default evaluation metric used with the objective 'multi:softprob' was changed from 'merror' to 'mlogloss'. Explicitly set eval_metric if you'd like to restore the old behavior.\n"
     ]
    },
    {
     "data": {
      "text/plain": [
       "XGBClassifier(base_score=0.5, booster='gbtree', colsample_bylevel=1,\n",
       "              colsample_bynode=1, colsample_bytree=0.6,\n",
       "              enable_categorical=False, gamma=0.3, gpu_id=-1,\n",
       "              importance_type=None, interaction_constraints='',\n",
       "              learning_rate=0.300000012, max_delta_step=0, max_depth=4,\n",
       "              min_child_weight=2, missing=nan, monotone_constraints='()',\n",
       "              n_estimators=100, n_jobs=4, num_parallel_tree=1,\n",
       "              objective='multi:softprob', predictor='auto', random_state=0,\n",
       "              reg_alpha=0.1, reg_lambda=1, scale_pos_weight=None, subsample=0.7,\n",
       "              tree_method='exact', use_label_encoder=False,\n",
       "              validate_parameters=1, verbosity=None)"
      ]
     },
     "execution_count": 12,
     "metadata": {},
     "output_type": "execute_result"
    }
   ],
   "source": [
    "from xgboost import XGBClassifier\n",
    "\n",
    "model = XGBClassifier(\n",
    "    use_label_encoder=False,\n",
    "    max_depth=4,\n",
    "    min_child_weight=2,\n",
    "    gamma=0.3,\n",
    "    subsample=0.7,\n",
    "    colsample_bytree=0.6,\n",
    "    reg_alpha=0.1\n",
    ")\n",
    "model.fit(X_train_vectors_w2v, y_train)"
   ]
  },
  {
   "cell_type": "code",
   "execution_count": 13,
   "id": "7e2677e2",
   "metadata": {
    "execution": {
     "iopub.execute_input": "2022-03-15T22:30:43.715725Z",
     "iopub.status.busy": "2022-03-15T22:30:43.714727Z",
     "iopub.status.idle": "2022-03-15T22:30:43.794686Z",
     "shell.execute_reply": "2022-03-15T22:30:43.793980Z",
     "shell.execute_reply.started": "2022-03-15T22:03:28.878365Z"
    },
    "papermill": {
     "duration": 0.117998,
     "end_time": "2022-03-15T22:30:43.794831",
     "exception": false,
     "start_time": "2022-03-15T22:30:43.676833",
     "status": "completed"
    },
    "tags": []
   },
   "outputs": [
    {
     "name": "stdout",
     "output_type": "stream",
     "text": [
      "Accuracy: 0.7832057867701017\n",
      "              precision    recall  f1-score   support\n",
      "\n",
      "           0       0.95      0.96      0.96      1598\n",
      "           1       0.93      0.93      0.93      1592\n",
      "           2       0.88      0.75      0.81      1595\n",
      "           3       0.57      0.51      0.54      1589\n",
      "           4       0.52      0.63      0.57      1565\n",
      "           5       0.89      0.91      0.90      1600\n",
      "\n",
      "    accuracy                           0.78      9539\n",
      "   macro avg       0.79      0.78      0.78      9539\n",
      "weighted avg       0.79      0.78      0.79      9539\n",
      "\n"
     ]
    }
   ],
   "source": [
    "predictions = model.predict(X_test_vectors_w2v)\n",
    "print(f\"Accuracy: {accuracy_score(y_test, predictions)}\")\n",
    "print(classification_report(y_test, predictions))"
   ]
  },
  {
   "cell_type": "code",
   "execution_count": 14,
   "id": "56f3dce6",
   "metadata": {
    "execution": {
     "iopub.execute_input": "2022-03-15T22:30:43.870249Z",
     "iopub.status.busy": "2022-03-15T22:30:43.869584Z",
     "iopub.status.idle": "2022-03-15T22:30:43.896186Z",
     "shell.execute_reply": "2022-03-15T22:30:43.895583Z",
     "shell.execute_reply.started": "2022-03-15T22:03:28.965077Z"
    },
    "papermill": {
     "duration": 0.068326,
     "end_time": "2022-03-15T22:30:43.896364",
     "exception": false,
     "start_time": "2022-03-15T22:30:43.828038",
     "status": "completed"
    },
    "tags": []
   },
   "outputs": [
    {
     "data": {
      "text/html": [
       "<div>\n",
       "<style scoped>\n",
       "    .dataframe tbody tr th:only-of-type {\n",
       "        vertical-align: middle;\n",
       "    }\n",
       "\n",
       "    .dataframe tbody tr th {\n",
       "        vertical-align: top;\n",
       "    }\n",
       "\n",
       "    .dataframe thead th {\n",
       "        text-align: right;\n",
       "    }\n",
       "</style>\n",
       "<table border=\"1\" class=\"dataframe\">\n",
       "  <thead>\n",
       "    <tr style=\"text-align: right;\">\n",
       "      <th></th>\n",
       "      <th>tweet_text</th>\n",
       "      <th>cyberbullying_type</th>\n",
       "      <th>is_cyberbullying</th>\n",
       "      <th>original_tweet</th>\n",
       "      <th>tokenized</th>\n",
       "      <th>cyberbullying_type_code</th>\n",
       "    </tr>\n",
       "  </thead>\n",
       "  <tbody>\n",
       "    <tr>\n",
       "      <th>0</th>\n",
       "      <td>word katandandr food crapilici mkr</td>\n",
       "      <td>not_cyberbullying</td>\n",
       "      <td>0</td>\n",
       "      <td>In other words #katandandre, your food was cra...</td>\n",
       "      <td>[word, katandandr, food, crapilici, mkr]</td>\n",
       "      <td>3</td>\n",
       "    </tr>\n",
       "    <tr>\n",
       "      <th>8</th>\n",
       "      <td>everyth mostli priest</td>\n",
       "      <td>not_cyberbullying</td>\n",
       "      <td>0</td>\n",
       "      <td>@stockputout everything but mostly my priest</td>\n",
       "      <td>[everyth, mostli, priest]</td>\n",
       "      <td>3</td>\n",
       "    </tr>\n",
       "    <tr>\n",
       "      <th>12</th>\n",
       "      <td>ughhh mkr</td>\n",
       "      <td>not_cyberbullying</td>\n",
       "      <td>0</td>\n",
       "      <td>Ughhhh #MKR</td>\n",
       "      <td>[ughhh, mkr]</td>\n",
       "      <td>3</td>\n",
       "    </tr>\n",
       "    <tr>\n",
       "      <th>19</th>\n",
       "      <td>gotta walk class offici hate stupid bu system</td>\n",
       "      <td>not_cyberbullying</td>\n",
       "      <td>0</td>\n",
       "      <td>Now I gotta walk to classss?! I officially hat...</td>\n",
       "      <td>[gotta, walk, class, offici, hate, stupid, bu,...</td>\n",
       "      <td>3</td>\n",
       "    </tr>\n",
       "    <tr>\n",
       "      <th>25</th>\n",
       "      <td>educ nation bulli turn http</td>\n",
       "      <td>not_cyberbullying</td>\n",
       "      <td>0</td>\n",
       "      <td>Education Nation: Bullying | Turn to 10 http:/...</td>\n",
       "      <td>[educ, nation, bulli, turn, http]</td>\n",
       "      <td>3</td>\n",
       "    </tr>\n",
       "    <tr>\n",
       "      <th>...</th>\n",
       "      <td>...</td>\n",
       "      <td>...</td>\n",
       "      <td>...</td>\n",
       "      <td>...</td>\n",
       "      <td>...</td>\n",
       "      <td>...</td>\n",
       "    </tr>\n",
       "    <tr>\n",
       "      <th>9522</th>\n",
       "      <td>say joke rape dumb he ’ gay gay men like men</td>\n",
       "      <td>gender</td>\n",
       "      <td>1</td>\n",
       "      <td>Who said my joke is about rape? So dumb. He’s ...</td>\n",
       "      <td>[say, joke, rape, dumb, he, ’, gay, gay, men, ...</td>\n",
       "      <td>2</td>\n",
       "    </tr>\n",
       "    <tr>\n",
       "      <th>9524</th>\n",
       "      <td>mind sure</td>\n",
       "      <td>gender</td>\n",
       "      <td>1</td>\n",
       "      <td>@jiabrahams ...in her mind.  Sure.</td>\n",
       "      <td>[mind, sure]</td>\n",
       "      <td>2</td>\n",
       "    </tr>\n",
       "    <tr>\n",
       "      <th>9529</th>\n",
       "      <td>lmao min car dad station he ’ listen tell gay ...</td>\n",
       "      <td>gender</td>\n",
       "      <td>1</td>\n",
       "      <td>Lmao 5 mins in the car with my dad and the sta...</td>\n",
       "      <td>[lmao, min, car, dad, station, he, ’, listen, ...</td>\n",
       "      <td>2</td>\n",
       "    </tr>\n",
       "    <tr>\n",
       "      <th>9531</th>\n",
       "      <td>straight teenag fuckboy use n word joke rape u...</td>\n",
       "      <td>gender</td>\n",
       "      <td>1</td>\n",
       "      <td>straight teenage fuckboys that use the n word,...</td>\n",
       "      <td>[straight, teenag, fuckboy, use, n, word, joke...</td>\n",
       "      <td>2</td>\n",
       "    </tr>\n",
       "    <tr>\n",
       "      <th>9534</th>\n",
       "      <td>mention fuck insult comment date rape joke bas...</td>\n",
       "      <td>gender</td>\n",
       "      <td>1</td>\n",
       "      <td>@Girl4Music Not to mention how fucking insulti...</td>\n",
       "      <td>[mention, fuck, insult, comment, date, rape, j...</td>\n",
       "      <td>2</td>\n",
       "    </tr>\n",
       "  </tbody>\n",
       "</table>\n",
       "<p>2068 rows × 6 columns</p>\n",
       "</div>"
      ],
      "text/plain": [
       "                                             tweet_text cyberbullying_type  \\\n",
       "0                    word katandandr food crapilici mkr  not_cyberbullying   \n",
       "8                                 everyth mostli priest  not_cyberbullying   \n",
       "12                                            ughhh mkr  not_cyberbullying   \n",
       "19        gotta walk class offici hate stupid bu system  not_cyberbullying   \n",
       "25                          educ nation bulli turn http  not_cyberbullying   \n",
       "...                                                 ...                ...   \n",
       "9522       say joke rape dumb he ’ gay gay men like men             gender   \n",
       "9524                                          mind sure             gender   \n",
       "9529  lmao min car dad station he ’ listen tell gay ...             gender   \n",
       "9531  straight teenag fuckboy use n word joke rape u...             gender   \n",
       "9534  mention fuck insult comment date rape joke bas...             gender   \n",
       "\n",
       "      is_cyberbullying                                     original_tweet  \\\n",
       "0                    0  In other words #katandandre, your food was cra...   \n",
       "8                    0       @stockputout everything but mostly my priest   \n",
       "12                   0                                        Ughhhh #MKR   \n",
       "19                   0  Now I gotta walk to classss?! I officially hat...   \n",
       "25                   0  Education Nation: Bullying | Turn to 10 http:/...   \n",
       "...                ...                                                ...   \n",
       "9522                 1  Who said my joke is about rape? So dumb. He’s ...   \n",
       "9524                 1                 @jiabrahams ...in her mind.  Sure.   \n",
       "9529                 1  Lmao 5 mins in the car with my dad and the sta...   \n",
       "9531                 1  straight teenage fuckboys that use the n word,...   \n",
       "9534                 1  @Girl4Music Not to mention how fucking insulti...   \n",
       "\n",
       "                                              tokenized  \\\n",
       "0              [word, katandandr, food, crapilici, mkr]   \n",
       "8                             [everyth, mostli, priest]   \n",
       "12                                         [ughhh, mkr]   \n",
       "19    [gotta, walk, class, offici, hate, stupid, bu,...   \n",
       "25                    [educ, nation, bulli, turn, http]   \n",
       "...                                                 ...   \n",
       "9522  [say, joke, rape, dumb, he, ’, gay, gay, men, ...   \n",
       "9524                                       [mind, sure]   \n",
       "9529  [lmao, min, car, dad, station, he, ’, listen, ...   \n",
       "9531  [straight, teenag, fuckboy, use, n, word, joke...   \n",
       "9534  [mention, fuck, insult, comment, date, rape, j...   \n",
       "\n",
       "      cyberbullying_type_code  \n",
       "0                           3  \n",
       "8                           3  \n",
       "12                          3  \n",
       "19                          3  \n",
       "25                          3  \n",
       "...                       ...  \n",
       "9522                        2  \n",
       "9524                        2  \n",
       "9529                        2  \n",
       "9531                        2  \n",
       "9534                        2  \n",
       "\n",
       "[2068 rows x 6 columns]"
      ]
     },
     "execution_count": 14,
     "metadata": {},
     "output_type": "execute_result"
    }
   ],
   "source": [
    "misclassified_indices = np.where(y_test != predictions)\n",
    "misclassified_data = df.iloc[misclassified_indices]\n",
    "misclassified_data"
   ]
  },
  {
   "cell_type": "code",
   "execution_count": 15,
   "id": "54f33c8b",
   "metadata": {
    "execution": {
     "iopub.execute_input": "2022-03-15T22:30:43.975466Z",
     "iopub.status.busy": "2022-03-15T22:30:43.974476Z",
     "iopub.status.idle": "2022-03-15T22:30:44.211102Z",
     "shell.execute_reply": "2022-03-15T22:30:44.210543Z",
     "shell.execute_reply.started": "2022-03-15T22:03:29.011307Z"
    },
    "papermill": {
     "duration": 0.280651,
     "end_time": "2022-03-15T22:30:44.211263",
     "exception": false,
     "start_time": "2022-03-15T22:30:43.930612",
     "status": "completed"
    },
    "tags": []
   },
   "outputs": [
    {
     "data": {
      "text/plain": [
       "Text(0.5, 1.0, 'Tweets distribution by cyberbullying types')"
      ]
     },
     "execution_count": 15,
     "metadata": {},
     "output_type": "execute_result"
    },
    {
     "data": {
      "image/png": "[encoded data removed]",
      "text/plain": [
       "<Figure size 2016x576 with 1 Axes>"
      ]
     },
     "metadata": {},
     "output_type": "display_data"
    }
   ],
   "source": [
    "sns.countplot(x=\"cyberbullying_type\", data=misclassified_data, order=misclassified_data.cyberbullying_type.value_counts().index).set_title(\"Tweets distribution by cyberbullying types\")"
   ]
  },
  {
   "cell_type": "markdown",
   "id": "629e02b3",
   "metadata": {
    "papermill": {
     "duration": 0.035028,
     "end_time": "2022-03-15T22:30:44.281897",
     "exception": false,
     "start_time": "2022-03-15T22:30:44.246869",
     "status": "completed"
    },
    "tags": []
   },
   "source": [
    "# Investigating 'other_cyberbullying' sub-categories"
   ]
  },
  {
   "cell_type": "markdown",
   "id": "3e498526",
   "metadata": {
    "papermill": {
     "duration": 0.035279,
     "end_time": "2022-03-15T22:30:44.352454",
     "exception": false,
     "start_time": "2022-03-15T22:30:44.317175",
     "status": "completed"
    },
    "tags": []
   },
   "source": [
    "I will use a clustering algorithm to group the tweets from 'other_cyberbullying' category to different groups. Since I don't know what is the number of groups I'm looking for K-means would not be a good choice. I decided to use DBSCAN which is a density-based algorithm and can find the required number of clusters."
   ]
  },
  {
   "cell_type": "code",
   "execution_count": 16,
   "id": "04e7b101",
   "metadata": {
    "execution": {
     "iopub.execute_input": "2022-03-15T22:30:44.429698Z",
     "iopub.status.busy": "2022-03-15T22:30:44.428922Z",
     "iopub.status.idle": "2022-03-15T22:30:45.742292Z",
     "shell.execute_reply": "2022-03-15T22:30:45.741604Z",
     "shell.execute_reply.started": "2022-03-15T22:03:29.320683Z"
    },
    "papermill": {
     "duration": 1.354655,
     "end_time": "2022-03-15T22:30:45.742433",
     "exception": false,
     "start_time": "2022-03-15T22:30:44.387778",
     "status": "completed"
    },
    "tags": []
   },
   "outputs": [
    {
     "data": {
      "text/plain": [
       "DBSCAN(eps=0.8)"
      ]
     },
     "execution_count": 16,
     "metadata": {},
     "output_type": "execute_result"
    }
   ],
   "source": [
    "from sklearn.cluster import DBSCAN\n",
    "\n",
    "other_cyberbullying_tweets = df[df[\"cyberbullying_type\"] == \"other_cyberbullying\"]\n",
    "vectorized = modelw.transform(other_cyberbullying_tweets[\"tokenized\"])\n",
    "\n",
    "model = DBSCAN(eps=0.8)\n",
    "model.fit(vectorized)"
   ]
  },
  {
   "cell_type": "code",
   "execution_count": 17,
   "id": "8b23033f",
   "metadata": {
    "execution": {
     "iopub.execute_input": "2022-03-15T22:30:45.818236Z",
     "iopub.status.busy": "2022-03-15T22:30:45.817610Z",
     "iopub.status.idle": "2022-03-15T22:30:45.824258Z",
     "shell.execute_reply": "2022-03-15T22:30:45.824905Z",
     "shell.execute_reply.started": "2022-03-15T22:03:30.596042Z"
    },
    "papermill": {
     "duration": 0.046038,
     "end_time": "2022-03-15T22:30:45.825072",
     "exception": false,
     "start_time": "2022-03-15T22:30:45.779034",
     "status": "completed"
    },
    "tags": []
   },
   "outputs": [
    {
     "name": "stdout",
     "output_type": "stream",
     "text": [
      "{0, 1, 2, 3, 4, 5, 6, 7, 8, 9, 10, 11, 12, 13, 14, 15, -1}\n"
     ]
    }
   ],
   "source": [
    "print(set(model.labels_))"
   ]
  },
  {
   "cell_type": "code",
   "execution_count": 18,
   "id": "c84637a6",
   "metadata": {
    "execution": {
     "iopub.execute_input": "2022-03-15T22:30:45.900617Z",
     "iopub.status.busy": "2022-03-15T22:30:45.899950Z",
     "iopub.status.idle": "2022-03-15T22:30:46.112822Z",
     "shell.execute_reply": "2022-03-15T22:30:46.112139Z",
     "shell.execute_reply.started": "2022-03-15T22:14:49.865817Z"
    },
    "papermill": {
     "duration": 0.252055,
     "end_time": "2022-03-15T22:30:46.113127",
     "exception": true,
     "start_time": "2022-03-15T22:30:45.861072",
     "status": "failed"
    },
    "tags": []
   },
   "outputs": [
    {
     "ename": "KeyError",
     "evalue": "'topic'",
     "output_type": "error",
     "traceback": [
      "\u001b[0;31m---------------------------------------------------------------------------\u001b[0m",
      "\u001b[0;31mKeyError\u001b[0m                                  Traceback (most recent call last)",
      "\u001b[0;32m/opt/conda/lib/python3.7/site-packages/pandas/core/indexes/base.py\u001b[0m in \u001b[0;36mget_loc\u001b[0;34m(self, key, method, tolerance)\u001b[0m\n\u001b[1;32m   3360\u001b[0m             \u001b[0;32mtry\u001b[0m\u001b[0;34m:\u001b[0m\u001b[0;34m\u001b[0m\u001b[0;34m\u001b[0m\u001b[0m\n\u001b[0;32m-> 3361\u001b[0;31m                 \u001b[0;32mreturn\u001b[0m \u001b[0mself\u001b[0m\u001b[0;34m.\u001b[0m\u001b[0m_engine\u001b[0m\u001b[0;34m.\u001b[0m\u001b[0mget_loc\u001b[0m\u001b[0;34m(\u001b[0m\u001b[0mcasted_key\u001b[0m\u001b[0;34m)\u001b[0m\u001b[0;34m\u001b[0m\u001b[0;34m\u001b[0m\u001b[0m\n\u001b[0m\u001b[1;32m   3362\u001b[0m             \u001b[0;32mexcept\u001b[0m \u001b[0mKeyError\u001b[0m \u001b[0;32mas\u001b[0m \u001b[0merr\u001b[0m\u001b[0;34m:\u001b[0m\u001b[0;34m\u001b[0m\u001b[0;34m\u001b[0m\u001b[0m\n",
      "\u001b[0;32m/opt/conda/lib/python3.7/site-packages/pandas/_libs/index.pyx\u001b[0m in \u001b[0;36mpandas._libs.index.IndexEngine.get_loc\u001b[0;34m()\u001b[0m\n",
      "\u001b[0;32m/opt/conda/lib/python3.7/site-packages/pandas/_libs/index.pyx\u001b[0m in \u001b[0;36mpandas._libs.index.IndexEngine.get_loc\u001b[0;34m()\u001b[0m\n",
      "\u001b[0;32mpandas/_libs/hashtable_class_helper.pxi\u001b[0m in \u001b[0;36mpandas._libs.hashtable.PyObjectHashTable.get_item\u001b[0;34m()\u001b[0m\n",
      "\u001b[0;32mpandas/_libs/hashtable_class_helper.pxi\u001b[0m in \u001b[0;36mpandas._libs.hashtable.PyObjectHashTable.get_item\u001b[0;34m()\u001b[0m\n",
      "\u001b[0;31mKeyError\u001b[0m: 'topic'",
      "\nThe above exception was the direct cause of the following exception:\n",
      "\u001b[0;31mKeyError\u001b[0m                                  Traceback (most recent call last)",
      "\u001b[0;32m/tmp/ipykernel_20/672559025.py\u001b[0m in \u001b[0;36m<module>\u001b[0;34m\u001b[0m\n\u001b[0;32m----> 1\u001b[0;31m \u001b[0mother_cyberbullying_tweets\u001b[0m\u001b[0;34m.\u001b[0m\u001b[0mloc\u001b[0m\u001b[0;34m[\u001b[0m\u001b[0mother_cyberbullying_tweets\u001b[0m\u001b[0;34m[\u001b[0m\u001b[0;34m\"topic\"\u001b[0m\u001b[0;34m]\u001b[0m \u001b[0;34m==\u001b[0m \u001b[0;36m3\u001b[0m\u001b[0;34m]\u001b[0m\u001b[0;34m\u001b[0m\u001b[0;34m\u001b[0m\u001b[0m\n\u001b[0m",
      "\u001b[0;32m/opt/conda/lib/python3.7/site-packages/pandas/core/frame.py\u001b[0m in \u001b[0;36m__getitem__\u001b[0;34m(self, key)\u001b[0m\n\u001b[1;32m   3456\u001b[0m             \u001b[0;32mif\u001b[0m \u001b[0mself\u001b[0m\u001b[0;34m.\u001b[0m\u001b[0mcolumns\u001b[0m\u001b[0;34m.\u001b[0m\u001b[0mnlevels\u001b[0m \u001b[0;34m>\u001b[0m \u001b[0;36m1\u001b[0m\u001b[0;34m:\u001b[0m\u001b[0;34m\u001b[0m\u001b[0;34m\u001b[0m\u001b[0m\n\u001b[1;32m   3457\u001b[0m                 \u001b[0;32mreturn\u001b[0m \u001b[0mself\u001b[0m\u001b[0;34m.\u001b[0m\u001b[0m_getitem_multilevel\u001b[0m\u001b[0;34m(\u001b[0m\u001b[0mkey\u001b[0m\u001b[0;34m)\u001b[0m\u001b[0;34m\u001b[0m\u001b[0;34m\u001b[0m\u001b[0m\n\u001b[0;32m-> 3458\u001b[0;31m             \u001b[0mindexer\u001b[0m \u001b[0;34m=\u001b[0m \u001b[0mself\u001b[0m\u001b[0;34m.\u001b[0m\u001b[0mcolumns\u001b[0m\u001b[0;34m.\u001b[0m\u001b[0mget_loc\u001b[0m\u001b[0;34m(\u001b[0m\u001b[0mkey\u001b[0m\u001b[0;34m)\u001b[0m\u001b[0;34m\u001b[0m\u001b[0;34m\u001b[0m\u001b[0m\n\u001b[0m\u001b[1;32m   3459\u001b[0m             \u001b[0;32mif\u001b[0m \u001b[0mis_integer\u001b[0m\u001b[0;34m(\u001b[0m\u001b[0mindexer\u001b[0m\u001b[0;34m)\u001b[0m\u001b[0;34m:\u001b[0m\u001b[0;34m\u001b[0m\u001b[0;34m\u001b[0m\u001b[0m\n\u001b[1;32m   3460\u001b[0m                 \u001b[0mindexer\u001b[0m \u001b[0;34m=\u001b[0m \u001b[0;34m[\u001b[0m\u001b[0mindexer\u001b[0m\u001b[0;34m]\u001b[0m\u001b[0;34m\u001b[0m\u001b[0;34m\u001b[0m\u001b[0m\n",
      "\u001b[0;32m/opt/conda/lib/python3.7/site-packages/pandas/core/indexes/base.py\u001b[0m in \u001b[0;36mget_loc\u001b[0;34m(self, key, method, tolerance)\u001b[0m\n\u001b[1;32m   3361\u001b[0m                 \u001b[0;32mreturn\u001b[0m \u001b[0mself\u001b[0m\u001b[0;34m.\u001b[0m\u001b[0m_engine\u001b[0m\u001b[0;34m.\u001b[0m\u001b[0mget_loc\u001b[0m\u001b[0;34m(\u001b[0m\u001b[0mcasted_key\u001b[0m\u001b[0;34m)\u001b[0m\u001b[0;34m\u001b[0m\u001b[0;34m\u001b[0m\u001b[0m\n\u001b[1;32m   3362\u001b[0m             \u001b[0;32mexcept\u001b[0m \u001b[0mKeyError\u001b[0m \u001b[0;32mas\u001b[0m \u001b[0merr\u001b[0m\u001b[0;34m:\u001b[0m\u001b[0;34m\u001b[0m\u001b[0;34m\u001b[0m\u001b[0m\n\u001b[0;32m-> 3363\u001b[0;31m                 \u001b[0;32mraise\u001b[0m \u001b[0mKeyError\u001b[0m\u001b[0;34m(\u001b[0m\u001b[0mkey\u001b[0m\u001b[0;34m)\u001b[0m \u001b[0;32mfrom\u001b[0m \u001b[0merr\u001b[0m\u001b[0;34m\u001b[0m\u001b[0;34m\u001b[0m\u001b[0m\n\u001b[0m\u001b[1;32m   3364\u001b[0m \u001b[0;34m\u001b[0m\u001b[0m\n\u001b[1;32m   3365\u001b[0m         \u001b[0;32mif\u001b[0m \u001b[0mis_scalar\u001b[0m\u001b[0;34m(\u001b[0m\u001b[0mkey\u001b[0m\u001b[0;34m)\u001b[0m \u001b[0;32mand\u001b[0m \u001b[0misna\u001b[0m\u001b[0;34m(\u001b[0m\u001b[0mkey\u001b[0m\u001b[0;34m)\u001b[0m \u001b[0;32mand\u001b[0m \u001b[0;32mnot\u001b[0m \u001b[0mself\u001b[0m\u001b[0;34m.\u001b[0m\u001b[0mhasnans\u001b[0m\u001b[0;34m:\u001b[0m\u001b[0;34m\u001b[0m\u001b[0;34m\u001b[0m\u001b[0m\n",
      "\u001b[0;31mKeyError\u001b[0m: 'topic'"
     ]
    }
   ],
   "source": [
    "other_cyberbullying_tweets.loc[other_cyberbullying_tweets[\"topic\"] == 3]"
   ]
  },
  {
   "cell_type": "code",
   "execution_count": null,
   "id": "26da545d",
   "metadata": {
    "execution": {
     "iopub.execute_input": "2022-03-15T22:14:13.038175Z",
     "iopub.status.busy": "2022-03-15T22:14:13.037200Z",
     "iopub.status.idle": "2022-03-15T22:14:13.066149Z",
     "shell.execute_reply": "2022-03-15T22:14:13.065194Z",
     "shell.execute_reply.started": "2022-03-15T22:14:13.038121Z"
    },
    "papermill": {
     "duration": null,
     "end_time": null,
     "exception": null,
     "start_time": null,
     "status": "pending"
    },
    "tags": []
   },
   "outputs": [],
   "source": [
    "other_cyberbullying_tweets[\"topic\"] = model.labels_\n",
    "other_cyberbullying_tweets"
   ]
  },
  {
   "cell_type": "code",
   "execution_count": null,
   "id": "6c08a3e7",
   "metadata": {
    "execution": {
     "iopub.execute_input": "2022-03-15T22:16:00.452360Z",
     "iopub.status.busy": "2022-03-15T22:16:00.451993Z",
     "iopub.status.idle": "2022-03-15T22:16:00.479340Z",
     "shell.execute_reply": "2022-03-15T22:16:00.478211Z",
     "shell.execute_reply.started": "2022-03-15T22:16:00.452326Z"
    },
    "papermill": {
     "duration": null,
     "end_time": null,
     "exception": null,
     "start_time": null,
     "status": "pending"
    },
    "tags": []
   },
   "outputs": [],
   "source": [
    "df[df.cyberbullying_type_code == 4]"
   ]
  }
 ],
 "metadata": {
  "kernelspec": {
   "display_name": "Python 3",
   "language": "python",
   "name": "python3"
  },
  "language_info": {
   "codemirror_mode": {
    "name": "ipython",
    "version": 3
   },
   "file_extension": ".py",
   "mimetype": "text/x-python",
   "name": "python",
   "nbconvert_exporter": "python",
   "pygments_lexer": "ipython3",
   "version": "3.7.12"
  },
  "papermill": {
   "default_parameters": {},
   "duration": 409.081268,
   "end_time": "2022-03-15T22:30:47.263432",
   "environment_variables": {},
   "exception": true,
   "input_path": "__notebook__.ipynb",
   "output_path": "__notebook__.ipynb",
   "parameters": {},
   "start_time": "2022-03-15T22:23:58.182164",
   "version": "2.3.3"
  }
 },
 "nbformat": 4,
 "nbformat_minor": 5
}
